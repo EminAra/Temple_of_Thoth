{
 "cells": [
  {
   "cell_type": "markdown",
   "metadata": {},
   "source": [
    "<img height=200 width=200 align='left' src='https://avatars2.githubusercontent.com/u/365630?v=3&s=400'>\n",
    "<img height=200 width=200 align='right' src='https://upload.wikimedia.org/wikipedia/en/7/74/TensorFlow.png'>\n",
    "<img height=50 width=50 align='middle' src='http://bowriversolutions.com/wp-content/uploads/2014/04/VS-Icon-315x400.png'>"
   ]
  },
  {
   "cell_type": "markdown",
   "metadata": {},
   "source": [
    "<img src='http://orig13.deviantart.net/a0c9/f/2009/339/f/4/shadic_vs_nazo_by_oskarmandude.gif'>"
   ]
  },
  {
   "cell_type": "markdown",
   "metadata": {},
   "source": [
    "In this notebook we will run a logistic regression from sklearn and compare its perfomance on the iris data set \n",
    "with that of a tensorflow model"
   ]
  },
  {
   "cell_type": "code",
   "execution_count": 187,
   "metadata": {
    "collapsed": true
   },
   "outputs": [],
   "source": [
    "from sklearn import datasets\n",
    "import numpy as np\n",
    "import pandas as pd\n",
    "from sklearn.linear_model import LogisticRegression\n",
    "from sklearn.ensemble import RandomForestClassifier\n",
    "from sklearn import cross_validation\n",
    "from matplotlib import pyplot as plt\n",
    "from sklearn.utils import shuffle\n",
    "from sklearn.preprocessing import scale\n",
    "from sklearn.metrics import accuracy_score\n",
    "from __future__ import division\n",
    "from sklearn.preprocessing import OneHotEncoder\n",
    "\n",
    "import tensorflow as tf"
   ]
  },
  {
   "cell_type": "markdown",
   "metadata": {},
   "source": [
    "<h2 style=\"color:#2980b9\"> Preparing the data </h2>"
   ]
  },
  {
   "cell_type": "code",
   "execution_count": 152,
   "metadata": {
    "collapsed": false
   },
   "outputs": [],
   "source": [
    "data = datasets.load_iris()\n",
    "random_indices = np.random.choice(range(len(data.data)),replace=False,size=len(data.data))"
   ]
  },
  {
   "cell_type": "code",
   "execution_count": 153,
   "metadata": {
    "collapsed": false
   },
   "outputs": [],
   "source": [
    "X = data.data[random_indices]\n",
    "X = scale(X)\n",
    "y = data.target[random_indices]"
   ]
  },
  {
   "cell_type": "code",
   "execution_count": 154,
   "metadata": {
    "collapsed": true
   },
   "outputs": [],
   "source": [
    "X = X.astype(np.float32)\n",
    "y = y.astype(np.float32)"
   ]
  },
  {
   "cell_type": "code",
   "execution_count": 155,
   "metadata": {
    "collapsed": false
   },
   "outputs": [],
   "source": [
    "X_train, X_test, y_train, y_test = cross_validation.train_test_split(X, y, train_size=.8, test_size=.2)"
   ]
  },
  {
   "cell_type": "markdown",
   "metadata": {},
   "source": [
    "<h2 style=\"color:#16a085\"> Le Regression Logistique by SKLEARN </h2>"
   ]
  },
  {
   "cell_type": "code",
   "execution_count": 156,
   "metadata": {
    "collapsed": false
   },
   "outputs": [],
   "source": [
    "clf = LogisticRegression(fit_intercept=False)"
   ]
  },
  {
   "cell_type": "code",
   "execution_count": 157,
   "metadata": {
    "collapsed": true
   },
   "outputs": [],
   "source": [
    "clf.fit(X_train, y_train)\n",
    "preds = clf.predict(X_test)"
   ]
  },
  {
   "cell_type": "code",
   "execution_count": 158,
   "metadata": {
    "collapsed": false
   },
   "outputs": [
    {
     "name": "stdout",
     "output_type": "stream",
     "text": [
      "Accuracy score: 0.93\n"
     ]
    }
   ],
   "source": [
    "print \"Accuracy score: {0:.2f}\".format(accuracy_score(y_test, preds))"
   ]
  },
  {
   "cell_type": "markdown",
   "metadata": {},
   "source": [
    "<h2 style=\"color:#27ae60\"> La Random Forest by SKLEARN </h2>"
   ]
  },
  {
   "cell_type": "code",
   "execution_count": 189,
   "metadata": {
    "collapsed": false
   },
   "outputs": [
    {
     "name": "stdout",
     "output_type": "stream",
     "text": [
      "Accuracy score: 0.97\n"
     ]
    }
   ],
   "source": [
    "clf = RandomForestClassifier(n_estimators=70)\n",
    "clf.fit(X_train, y_train)\n",
    "preds = clf.predict(X_test)\n",
    "print \"Accuracy score: {0:.2f}\".format(accuracy_score(y_test, preds))"
   ]
  },
  {
   "cell_type": "markdown",
   "metadata": {},
   "source": [
    "<h2 style=\"color:#9b5ab6\"> Das Deep Network by TENSORFLOW </h2>"
   ]
  },
  {
   "cell_type": "code",
   "execution_count": 163,
   "metadata": {
    "collapsed": false
   },
   "outputs": [
    {
     "data": {
      "text/plain": [
       "OneHotEncoder(categorical_features='all', dtype=<type 'float'>,\n",
       "       handle_unknown='error', n_values='auto', sparse=True)"
      ]
     },
     "execution_count": 163,
     "metadata": {},
     "output_type": "execute_result"
    }
   ],
   "source": [
    "enc = OneHotEncoder()\n",
    "enc.fit([[0],[1],[2]])"
   ]
  },
  {
   "cell_type": "code",
   "execution_count": 164,
   "metadata": {
    "collapsed": false
   },
   "outputs": [],
   "source": [
    "y_train_hot = enc.transform(np.vstack(y_train)).toarray().astype(np.float32)\n",
    "y_test_hot = enc.transform(np.vstack(y_test)).toarray().astype(np.float32)"
   ]
  },
  {
   "cell_type": "code",
   "execution_count": 165,
   "metadata": {
    "collapsed": false
   },
   "outputs": [
    {
     "name": "stdout",
     "output_type": "stream",
     "text": [
      "[ 2.  2.  0.  1.  0.]\n",
      "===> \n",
      "\n",
      "[[ 0.  0.  1.]\n",
      " [ 0.  0.  1.]\n",
      " [ 1.  0.  0.]\n",
      " [ 0.  1.  0.]\n",
      " [ 1.  0.  0.]]\n",
      "\n",
      "\n",
      "[ 2.  1.  1.  2.  1.]\n",
      "===>\n",
      "\n",
      "[[ 0.  0.  1.]\n",
      " [ 0.  1.  0.]\n",
      " [ 0.  1.  0.]\n",
      " [ 0.  0.  1.]\n",
      " [ 0.  1.  0.]]\n"
     ]
    }
   ],
   "source": [
    "print y_train[0:5]\n",
    "print '===> \\n'\n",
    "print y_train_hot[0:5]\n",
    "print '\\n'\n",
    "print y_test[0:5]\n",
    "print '===>\\n'\n",
    "print y_test_hot[0:5]"
   ]
  },
  {
   "cell_type": "markdown",
   "metadata": {},
   "source": [
    "### Initiating the Graph"
   ]
  },
  {
   "cell_type": "code",
   "execution_count": 183,
   "metadata": {
    "collapsed": false
   },
   "outputs": [],
   "source": [
    "num_labels = np.shape(y_train_hot)[1]\n",
    "\n",
    "graph = tf.Graph()\n",
    "with graph.as_default():\n",
    "\n",
    "    tf_train_dataset = tf.constant(X_train)\n",
    "    tf_train_labels = tf.constant(y_train_hot)\n",
    "    tf_valid_dataset = tf.constant(X_test)\n",
    "  \n",
    "    # Variables\n",
    "    v_1 = tf.Variable(\n",
    "      tf.truncated_normal([np.shape(X_train)[1], 5]))\n",
    "    b_1 = tf.Variable(tf.zeros([5]))\n",
    "    \n",
    "    v_2 = tf.Variable(\n",
    "      tf.truncated_normal([5, num_labels]))\n",
    "    b_2 = tf.Variable(tf.zeros([num_labels]))\n",
    "    \n",
    "    beta = 0.001\n",
    "  \n",
    "    # Training computation\n",
    "    layer_1 = tf.nn.tanh(tf.matmul(tf_train_dataset, v_1) + b_1)\n",
    "    logits = tf.matmul(layer_1, v_2) + b_2\n",
    "    loss = tf.reduce_mean(tf.nn.softmax_cross_entropy_with_logits(logits, tf_train_labels))+beta*tf.nn.l2_loss(v_2)\n",
    "  \n",
    "    # Optimizer\n",
    "    optimizer = tf.train.GradientDescentOptimizer(0.001).minimize(loss)\n",
    "  \n",
    "    # Predictions for the training, validation, and test data\n",
    "    valid_prediction = tf.nn.softmax(\n",
    "    tf.matmul((tf.matmul(tf_valid_dataset, v_1) + b_1), v_2)) + b_2"
   ]
  },
  {
   "cell_type": "markdown",
   "metadata": {},
   "source": [
    "### Training the Graph"
   ]
  },
  {
   "cell_type": "code",
   "execution_count": 184,
   "metadata": {
    "collapsed": false
   },
   "outputs": [
    {
     "name": "stdout",
     "output_type": "stream",
     "text": [
      "Initialized\n",
      "Loss at step 0: 1.530424\n",
      "Validation accuracy: 0.47%\n",
      "Loss at step 2000: 0.564675\n",
      "Validation accuracy: 0.80%\n",
      "Loss at step 4000: 0.441082\n",
      "Validation accuracy: 0.80%\n",
      "Loss at step 6000: 0.378277\n",
      "Validation accuracy: 0.93%\n",
      "Loss at step 8000: 0.332872\n",
      "Validation accuracy: 0.97%\n",
      "Loss at step 10000: 0.295824\n",
      "Validation accuracy: 0.97%\n",
      "Loss at step 12000: 0.264068\n",
      "Validation accuracy: 1.00%\n",
      "Loss at step 14000: 0.236660\n",
      "Validation accuracy: 1.00%\n",
      "Loss at step 16000: 0.213305\n",
      "Validation accuracy: 1.00%\n",
      "Loss at step 18000: 0.193681\n",
      "Validation accuracy: 1.00%\n",
      "Loss at step 20000: 0.177327\n",
      "Validation accuracy: 1.00%\n",
      "Loss at step 22000: 0.163727\n",
      "Validation accuracy: 1.00%\n",
      "Loss at step 24000: 0.152392\n",
      "Validation accuracy: 1.00%\n"
     ]
    }
   ],
   "source": [
    "num_steps = 25000\n",
    "\n",
    "def accuracy(predictions, labels):\n",
    "    return (np.sum(np.argmax(predictions, 1) == np.argmax(labels, 1))/ predictions.shape[0])\n",
    "\n",
    "saver = tf.train.Saver([v_1, v_2],keep_checkpoint_every_n_hours=2)\n",
    "\n",
    "with tf.Session(graph=graph) as session: \n",
    "    tf.initialize_all_variables().run()\n",
    "    print('Initialized')\n",
    "    for step in range(num_steps):\n",
    "        _, l = session.run([optimizer, loss])\n",
    "        if (step % 2000 == 0):\n",
    "            print('Loss at step %d: %f' % (step, l))\n",
    "            print('Validation accuracy: %.2f%%' % accuracy(valid_prediction.eval(), y_test_hot))\n",
    "            preds_tf = valid_prediction.eval()\n",
    "    saver.save(session, 'vs_sklearn', global_step = step)\n",
    "    \n",
    "    "
   ]
  },
  {
   "cell_type": "markdown",
   "metadata": {},
   "source": [
    "<h2 align=middle> And the winner is ... </h2>"
   ]
  },
  {
   "cell_type": "markdown",
   "metadata": {},
   "source": [
    "<p align='middle'><img src='https://upload.wikimedia.org/wikipedia/en/7/74/TensorFlow.png'></p>"
   ]
  },
  {
   "cell_type": "markdown",
   "metadata": {},
   "source": [
    "<img src='http://orig06.deviantart.net/bfe7/f/2012/172/f/7/kawaii_plum_by_nyanqueen-d54az71.gif'>"
   ]
  }
 ],
 "metadata": {
  "kernelspec": {
   "display_name": "Python 2",
   "language": "python",
   "name": "python2"
  },
  "language_info": {
   "codemirror_mode": {
    "name": "ipython",
    "version": 2
   },
   "file_extension": ".py",
   "mimetype": "text/x-python",
   "name": "python",
   "nbconvert_exporter": "python",
   "pygments_lexer": "ipython2",
   "version": "2.7.10"
  }
 },
 "nbformat": 4,
 "nbformat_minor": 0
}
