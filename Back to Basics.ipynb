{
 "cells": [
  {
   "cell_type": "markdown",
   "metadata": {},
   "source": [
    "<img height=200 width=200 align='left' src='https://avatars2.githubusercontent.com/u/365630?v=3&s=400'>\n",
    "<img height=200 width=200 align='right' src='https://upload.wikimedia.org/wikipedia/en/7/74/TensorFlow.png'>\n",
    "<img height=50 width=50 align='middle' src='http://bowriversolutions.com/wp-content/uploads/2014/04/VS-Icon-315x400.png'>"
   ]
  },
  {
   "cell_type": "markdown",
   "metadata": {},
   "source": [
    "<img src='http://orig13.deviantart.net/a0c9/f/2009/339/f/4/shadic_vs_nazo_by_oskarmandude.gif'>"
   ]
  },
  {
   "cell_type": "markdown",
   "metadata": {},
   "source": [
    "In this notebook we will run a logistic regression from sklearn and compare its perfomance on the iris data set \n",
    "with that of a tensorflow model"
   ]
  },
  {
   "cell_type": "code",
   "execution_count": 37,
   "metadata": {
    "collapsed": true
   },
   "outputs": [],
   "source": [
    "from sklearn import datasets\n",
    "import numpy as np\n",
    "import pandas as pd\n",
    "from sklearn.linear_model import LogisticRegression\n",
    "from sklearn import cross_validation\n",
    "from matplotlib import pyplot as plt\n",
    "from sklearn.utils import shuffle\n",
    "from sklearn.preprocessing import scale\n",
    "from sklearn.metrics import accuracy_score\n",
    "from __future__ import division\n",
    "from sklearn.preprocessing import OneHotEncoder\n",
    "\n",
    "import tensorflow as tf"
   ]
  },
  {
   "cell_type": "markdown",
   "metadata": {},
   "source": [
    "<h2 style=\"color:#2980b9\"> Preparing the data </h2>"
   ]
  },
  {
   "cell_type": "code",
   "execution_count": 85,
   "metadata": {
    "collapsed": false
   },
   "outputs": [],
   "source": [
    "data = datasets.load_iris()\n",
    "random_indices = np.random.choice(range(len(data.data)),replace=False,size=len(data.data))"
   ]
  },
  {
   "cell_type": "code",
   "execution_count": 96,
   "metadata": {
    "collapsed": false
   },
   "outputs": [],
   "source": [
    "X = data.data[random_indices]\n",
    "X = scale(X)\n",
    "y = data.target[random_indices]"
   ]
  },
  {
   "cell_type": "code",
   "execution_count": 97,
   "metadata": {
    "collapsed": true
   },
   "outputs": [],
   "source": [
    "X = X.astype(np.float32)\n",
    "y = y.astype(np.float32)"
   ]
  },
  {
   "cell_type": "code",
   "execution_count": 98,
   "metadata": {
    "collapsed": false
   },
   "outputs": [],
   "source": [
    "X_train, X_test, y_train, y_test = cross_validation.train_test_split(X, y, train_size=.8, test_size=.2)"
   ]
  },
  {
   "cell_type": "markdown",
   "metadata": {},
   "source": [
    "<h2 style=\"color:#16a085\"> Le Regression Logistique by SKLEARN </h2>"
   ]
  },
  {
   "cell_type": "code",
   "execution_count": 99,
   "metadata": {
    "collapsed": false
   },
   "outputs": [],
   "source": [
    "clf = LogisticRegression(fit_intercept=False)"
   ]
  },
  {
   "cell_type": "code",
   "execution_count": 100,
   "metadata": {
    "collapsed": true
   },
   "outputs": [],
   "source": [
    "clf.fit(X_train, y_train)\n",
    "preds = clf.predict(X_test)"
   ]
  },
  {
   "cell_type": "code",
   "execution_count": 101,
   "metadata": {
    "collapsed": false
   },
   "outputs": [
    {
     "name": "stdout",
     "output_type": "stream",
     "text": [
      "Accuracy score: 0.90\n"
     ]
    }
   ],
   "source": [
    "print \"Accuracy score: {0:.2f}\".format(accuracy_score(y_test, preds))"
   ]
  },
  {
   "cell_type": "markdown",
   "metadata": {},
   "source": [
    "<h2 style=\"color:#9b5ab6\"> Das Logistic Regression by TENSORFLOW </h2>"
   ]
  },
  {
   "cell_type": "code",
   "execution_count": 102,
   "metadata": {
    "collapsed": false
   },
   "outputs": [
    {
     "data": {
      "text/plain": [
       "OneHotEncoder(categorical_features='all', dtype=<type 'float'>,\n",
       "       handle_unknown='error', n_values='auto', sparse=True)"
      ]
     },
     "execution_count": 102,
     "metadata": {},
     "output_type": "execute_result"
    }
   ],
   "source": [
    "enc = OneHotEncoder()\n",
    "enc.fit([[0],[1],[2]])"
   ]
  },
  {
   "cell_type": "code",
   "execution_count": 110,
   "metadata": {
    "collapsed": false
   },
   "outputs": [],
   "source": [
    "y_train_hot = enc.transform(np.vstack(y_train)).toarray().astype(np.float32)\n",
    "y_test_hot = enc.transform(np.vstack(y_test)).toarray().astype(np.float32)"
   ]
  },
  {
   "cell_type": "code",
   "execution_count": 111,
   "metadata": {
    "collapsed": false
   },
   "outputs": [
    {
     "name": "stdout",
     "output_type": "stream",
     "text": [
      "[ 0.  1.  1.  2.  2.]\n",
      "===> \n",
      "\n",
      "[[ 1.  0.  0.]\n",
      " [ 0.  1.  0.]\n",
      " [ 0.  1.  0.]\n",
      " [ 0.  0.  1.]\n",
      " [ 0.  0.  1.]]\n",
      "\n",
      "\n",
      "[ 0.  2.  2.  0.  1.]\n",
      "===>\n",
      "\n",
      "[[ 1.  0.  0.]\n",
      " [ 0.  0.  1.]\n",
      " [ 0.  0.  1.]\n",
      " [ 1.  0.  0.]\n",
      " [ 0.  1.  0.]]\n"
     ]
    }
   ],
   "source": [
    "print y_train[0:5]\n",
    "print '===> \\n'\n",
    "print y_train_hot[0:5]\n",
    "print '\\n'\n",
    "print y_test[0:5]\n",
    "print '===>\\n'\n",
    "print y_test_hot[0:5]"
   ]
  },
  {
   "cell_type": "markdown",
   "metadata": {},
   "source": [
    "### Initiating the Graph"
   ]
  },
  {
   "cell_type": "code",
   "execution_count": 124,
   "metadata": {
    "collapsed": false
   },
   "outputs": [],
   "source": [
    "num_labels = np.shape(y_train_hot)[1]\n",
    "\n",
    "graph = tf.Graph()\n",
    "with graph.as_default():\n",
    "\n",
    "    tf_train_dataset = tf.constant(X_train)\n",
    "    tf_train_labels = tf.constant(y_train_hot)\n",
    "    tf_valid_dataset = tf.constant(X_test)\n",
    "  \n",
    "    # Variables\n",
    "    weights = tf.Variable(\n",
    "      tf.truncated_normal([np.shape(X_train)[1], num_labels]))\n",
    "    biases = tf.Variable(tf.zeros([num_labels]))\n",
    "    beta = 0.00\n",
    "  \n",
    "    # Training computation\n",
    "    logits = tf.matmul(tf_train_dataset, weights) + biases\n",
    "    loss = tf.reduce_mean(tf.nn.softmax_cross_entropy_with_logits(logits, tf_train_labels))+beta*tf.nn.l2_loss(weights)\n",
    "  \n",
    "    # Optimizer\n",
    "    optimizer = tf.train.GradientDescentOptimizer(0.001).minimize(loss)\n",
    "  \n",
    "    # Predictions for the training, validation, and test data\n",
    "    valid_prediction = tf.nn.softmax(\n",
    "    tf.matmul(tf_valid_dataset, weights) + biases)"
   ]
  },
  {
   "cell_type": "markdown",
   "metadata": {},
   "source": [
    "### Training the Graph"
   ]
  },
  {
   "cell_type": "code",
   "execution_count": 138,
   "metadata": {
    "collapsed": false
   },
   "outputs": [
    {
     "name": "stdout",
     "output_type": "stream",
     "text": [
      "Initialized\n",
      "Loss at step 0: 1.570057\n",
      "Validation accuracy: 0.23%\n",
      "Loss at step 2000: 0.541924\n",
      "Validation accuracy: 0.93%\n",
      "Loss at step 4000: 0.425406\n",
      "Validation accuracy: 0.93%\n",
      "Loss at step 6000: 0.378345\n",
      "Validation accuracy: 0.97%\n",
      "Loss at step 8000: 0.349923\n",
      "Validation accuracy: 0.97%\n"
     ]
    }
   ],
   "source": [
    "num_steps = 10000\n",
    "\n",
    "def accuracy(predictions, labels):\n",
    "    return (np.sum(np.argmax(predictions, 1) == np.argmax(labels, 1))/ predictions.shape[0])\n",
    "\n",
    "saver = tf.train.Saver([weights],keep_checkpoint_every_n_hours=2)\n",
    "\n",
    "with tf.Session(graph=graph) as session: \n",
    "    tf.initialize_all_variables().run()\n",
    "    print('Initialized')\n",
    "    for step in range(num_steps):\n",
    "        _, l = session.run([optimizer, loss])\n",
    "        if (step % 2000 == 0):\n",
    "            print('Loss at step %d: %f' % (step, l))\n",
    "            print('Validation accuracy: %.2f%%' % accuracy(valid_prediction.eval(), y_test_hot))\n",
    "            preds_tf = valid_prediction.eval()\n",
    "    saver.save(session, 'vs_sklearn', global_step = step)\n",
    "    \n",
    "    "
   ]
  },
  {
   "cell_type": "markdown",
   "metadata": {},
   "source": [
    "<h2 align=middle> And the winner is ... </h2>"
   ]
  },
  {
   "cell_type": "markdown",
   "metadata": {},
   "source": [
    "<p align='middle'><img src='https://upload.wikimedia.org/wikipedia/en/7/74/TensorFlow.png'></p>"
   ]
  },
  {
   "cell_type": "markdown",
   "metadata": {},
   "source": [
    "<img src='http://orig06.deviantart.net/bfe7/f/2012/172/f/7/kawaii_plum_by_nyanqueen-d54az71.gif'>"
   ]
  }
 ],
 "metadata": {
  "kernelspec": {
   "display_name": "Python 2",
   "language": "python",
   "name": "python2"
  },
  "language_info": {
   "codemirror_mode": {
    "name": "ipython",
    "version": 2
   },
   "file_extension": ".py",
   "mimetype": "text/x-python",
   "name": "python",
   "nbconvert_exporter": "python",
   "pygments_lexer": "ipython2",
   "version": "2.7.10"
  }
 },
 "nbformat": 4,
 "nbformat_minor": 0
}
